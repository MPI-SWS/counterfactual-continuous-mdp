{
 "cells": [
  {
   "attachments": {},
   "cell_type": "markdown",
   "metadata": {},
   "source": [
    "# Figure 4\n",
    "\n",
    "Requires the respective script to be run first. See ```grande_experiment_slurm.sh``` for details."
   ]
  },
  {
   "cell_type": "code",
   "execution_count": 1,
   "metadata": {},
   "outputs": [],
   "source": [
    "import os\n",
    "os.chdir(\"../\")"
   ]
  },
  {
   "cell_type": "code",
   "execution_count": 2,
   "metadata": {},
   "outputs": [],
   "source": [
    "import pandas as pd\n",
    "import matplotlib.pyplot as plt\n",
    "import seaborn as sns\n",
    "import glob\n",
    "import json\n",
    "from src import utils\n",
    "from IPython.display import clear_output\n",
    "\n",
    "sns.set_theme(context='paper', style='ticks', font_scale=1)"
   ]
  },
  {
   "cell_type": "code",
   "execution_count": 3,
   "metadata": {},
   "outputs": [],
   "source": [
    "name=\"size\"\n",
    "width_pt = 397\n",
    "palette = sns.color_palette('husl', 5)"
   ]
  },
  {
   "cell_type": "code",
   "execution_count": 4,
   "metadata": {
    "tags": []
   },
   "outputs": [
    {
     "name": "stdout",
     "output_type": "stream",
     "text": [
      "Reading file 2918/2918\n"
     ]
    }
   ],
   "source": [
    "files = glob.glob(\"./outputs/experiments/{name}_*.json\".format(name=name))\n",
    "\n",
    "dicts = []\n",
    "for fl_id, fl in enumerate(files):\n",
    "    clear_output(wait=True)\n",
    "    print('Reading file ' + str(fl_id+1)+'/'+str(len(files)))\n",
    "    with open(fl,\"r\") as f:\n",
    "        js = json.load(f)\n",
    "        \n",
    "        dict = {}\n",
    "        dict['anchor_samples'] = js['anchor_samples']\n",
    "        dict['anchor_method'] = js['anchor_method']\n",
    "        dict['pid'] = js['pid']\n",
    "        dict['horizon'] = js['horizon']\n",
    "        dict['anchor_runtime'] = js['anchor_runtime']\n",
    "        dict['astar_runtime'] = js['astar_runtime']\n",
    "        dict['ebf'] = js['ebf']\n",
    "        dicts.append(dict)\n",
    "\n",
    "raw_df = pd.DataFrame(dicts)"
   ]
  },
  {
   "cell_type": "code",
   "execution_count": 56,
   "metadata": {},
   "outputs": [],
   "source": [
    "input_df = raw_df[raw_df[\"anchor_method\"]==\"montecarlo-proportional\"]\n",
    "\n",
    "utils.latexify() # Computer Modern, with TeX\n",
    "\n",
    "fig_width, fig_height = utils.get_fig_dim(width_pt, fraction=0.6)\n",
    "fig, ax = plt.subplots(nrows=1, ncols=1, figsize=(fig_width, fig_height))\n",
    "\n",
    "# Draw Axis 1\n",
    "sns.pointplot(data=input_df, x=\"anchor_samples\", y=\"ebf\", capsize=0.3, color=palette[0], ax=ax)\n",
    "sns.despine()\n",
    "ax.set_xlabel(r\"Size of anchor set, $|\\mathcal{S}_\\dagger|$\")\n",
    "ax.set_ylabel(\"EBF\")\n",
    "ax.set_ylim(1.85, 2.10)\n",
    "\n",
    "fig.tight_layout()\n",
    "fig.savefig('figures/size_proportional.pdf', dpi=300)"
   ]
  },
  {
   "cell_type": "code",
   "execution_count": 57,
   "metadata": {},
   "outputs": [],
   "source": [
    "input_df = raw_df[raw_df[\"anchor_method\"]==\"montecarlo-uniform\"]\n",
    "\n",
    "utils.latexify() # Computer Modern, with TeX\n",
    "\n",
    "fig_width, fig_height = utils.get_fig_dim(width_pt, fraction=0.6)\n",
    "fig, ax = plt.subplots(nrows=1, ncols=1, figsize=(fig_width, fig_height))\n",
    "\n",
    "# Draw Axis 1\n",
    "sns.pointplot(data=input_df, x=\"anchor_samples\", y=\"ebf\", capsize=0.3, color=palette[1], ax=ax)\n",
    "sns.despine()\n",
    "ax.set_xlabel(r\"Size of anchor set, $|\\mathcal{S}_\\dagger|$\")\n",
    "ax.set_ylabel(\"EBF\")\n",
    "ax.set_ylim(1.85, 2.10)\n",
    "\n",
    "fig.tight_layout()\n",
    "fig.savefig('figures/size_uniform.pdf', dpi=300)"
   ]
  },
  {
   "cell_type": "code",
   "execution_count": 58,
   "metadata": {},
   "outputs": [],
   "source": [
    "input_df = raw_df[raw_df[\"anchor_method\"]==\"facility-location\"]\n",
    "\n",
    "utils.latexify() # Computer Modern, with TeX\n",
    "\n",
    "fig_width, fig_height = utils.get_fig_dim(width_pt, fraction=0.6)\n",
    "fig, ax = plt.subplots(nrows=1, ncols=1, figsize=(fig_width, fig_height))\n",
    "\n",
    "# Draw Axis 1\n",
    "sns.pointplot(data=input_df, x=\"anchor_samples\", y=\"ebf\", capsize=0.3, color=palette[2], ax=ax)\n",
    "sns.despine()\n",
    "ax.set_xlabel(r\"Size of anchor set, $|\\mathcal{S}_\\dagger|$\")\n",
    "ax.set_ylabel(\"EBF\")\n",
    "ax.set_ylim(3, 3.1)\n",
    "\n",
    "fig.tight_layout()\n",
    "fig.savefig('figures/size_facility.pdf', dpi=300)"
   ]
  },
  {
   "cell_type": "code",
   "execution_count": null,
   "metadata": {},
   "outputs": [],
   "source": []
  }
 ],
 "metadata": {
  "interpreter": {
   "hash": "e312f55c3c97e43ef328a86651ae8cf61ffd8a19c7888f1a2843b6f17cf5ecdd"
  },
  "kernelspec": {
   "display_name": "Python 3.9.1 64-bit ('env')",
   "name": "python3"
  },
  "language_info": {
   "codemirror_mode": {
    "name": "ipython",
    "version": 3
   },
   "file_extension": ".py",
   "mimetype": "text/x-python",
   "name": "python",
   "nbconvert_exporter": "python",
   "pygments_lexer": "ipython3",
   "version": "3.10.12"
  },
  "metadata": {
   "interpreter": {
    "hash": "c425b3d18afb7ef01beae38734bbc4c3f66a0926b3e7f0a803887fb6dc8ff96a"
   }
  },
  "orig_nbformat": 2
 },
 "nbformat": 4,
 "nbformat_minor": 2
}
