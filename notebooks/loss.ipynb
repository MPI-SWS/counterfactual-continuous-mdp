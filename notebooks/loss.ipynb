{
 "cells": [
  {
   "attachments": {},
   "cell_type": "markdown",
   "metadata": {},
   "source": [
    "# Figure 5\n",
    "\n",
    "Requires training the models first. See ```cv_scm.sh``` for details."
   ]
  },
  {
   "cell_type": "code",
   "execution_count": 1,
   "metadata": {},
   "outputs": [],
   "source": [
    "import os\n",
    "os.chdir(\"../\")"
   ]
  },
  {
   "cell_type": "code",
   "execution_count": 2,
   "metadata": {},
   "outputs": [],
   "source": [
    "import pandas as pd\n",
    "import matplotlib.pyplot as plt\n",
    "import seaborn as sns\n",
    "import glob\n",
    "import json\n",
    "from src import utils\n",
    "from IPython.display import clear_output\n",
    "from matplotlib.ticker import PercentFormatter\n",
    "\n",
    "sns.set_theme(context='paper', style='ticks', font_scale=1)"
   ]
  },
  {
   "cell_type": "code",
   "execution_count": 3,
   "metadata": {},
   "outputs": [],
   "source": [
    "name=\"mimic_transitions_cv\"\n",
    "distribution=\"multigaussian\"\n",
    "width_pt = 397"
   ]
  },
  {
   "cell_type": "code",
   "execution_count": 4,
   "metadata": {
    "tags": []
   },
   "outputs": [
    {
     "name": "stdout",
     "output_type": "stream",
     "text": [
      "Reading file 101/101\n"
     ]
    }
   ],
   "source": [
    "files = glob.glob(\"./outputs/cv_reports/{name}_*_{distribution}.json\".format(name=name, distribution=distribution))\n",
    "\n",
    "dicts = []\n",
    "for fl_id, fl in enumerate(files):\n",
    "    clear_output(wait=True)\n",
    "    print('Reading file ' + str(fl_id+1)+'/'+str(len(files)))\n",
    "    with open(fl,\"r\") as f:\n",
    "        js = json.load(f)\n",
    "        res = {}\n",
    "        res['lipschitz_loc'] = js['lipschitz_loc']\n",
    "        res['lipschitz_scale'] = js['lipschitz_scale']\n",
    "        res['crossval_last_loss'] = js['crossval_last_loss']\n",
    "\n",
    "        dicts.append(res)\n",
    "\n",
    "raw_df = pd.DataFrame(dicts)"
   ]
  },
  {
   "cell_type": "code",
   "execution_count": 5,
   "metadata": {},
   "outputs": [],
   "source": [
    "# drop the rows that contain 'none'\n",
    "input_df = raw_df[raw_df['lipschitz_loc'] != 'none']\n",
    "# convert all columns to float\n",
    "input_df = input_df.astype(float)\n",
    "# prepare shape for heatmap\n",
    "input_df = input_df.pivot(\"lipschitz_scale\", \"lipschitz_loc\", \"crossval_last_loss\")"
   ]
  },
  {
   "cell_type": "code",
   "execution_count": 6,
   "metadata": {},
   "outputs": [],
   "source": [
    "# get value of baseline\n",
    "baseline_df = raw_df[raw_df['lipschitz_loc'] == 'none']\n",
    "baseline = baseline_df['crossval_last_loss'].values[0]\n",
    "# for each value in input_df, get the percent difference from baseline\n",
    "input_df = input_df.apply(lambda x: (x-baseline)/baseline*100)"
   ]
  },
  {
   "cell_type": "code",
   "execution_count": 7,
   "metadata": {},
   "outputs": [],
   "source": [
    "utils.latexify() # Computer Modern, with TeX\n",
    "\n",
    "fig_width, fig_height = utils.get_fig_dim(width_pt, fraction=0.6)\n",
    "fig, ax = plt.subplots(nrows=1, ncols=1, figsize=(fig_width, fig_height))\n",
    "\n",
    "# Draw Axis 1\n",
    "sns.heatmap(data=input_df, ax=ax, cmap=sns.color_palette(\"rocket\", as_cmap=True))\n",
    "sns.despine(ax=ax)\n",
    "\n",
    "ax.set_xlabel(r\"$L_h$\")\n",
    "ax.set_ylabel(r\"$L_\\phi$\")\n",
    "for tick in ax.get_xticklabels():\n",
    "    tick.set_rotation(40)\n",
    "\n",
    "# Get the colorbar object\n",
    "cbar = ax.collections[0].colorbar\n",
    "# Set the formatter of the colorbar to a `PercentFormatter` object\n",
    "cbar.formatter = PercentFormatter(decimals=0)\n",
    "# Update the colorbar\n",
    "cbar.update_ticks()\n",
    "\n",
    "fig.tight_layout()\n",
    "fig.savefig('figures/loss_{distribution}.pdf'.format(distribution=distribution), dpi=300)"
   ]
  }
 ],
 "metadata": {
  "interpreter": {
   "hash": "e312f55c3c97e43ef328a86651ae8cf61ffd8a19c7888f1a2843b6f17cf5ecdd"
  },
  "kernelspec": {
   "display_name": "Python 3.9.1 64-bit ('env')",
   "name": "python3"
  },
  "language_info": {
   "codemirror_mode": {
    "name": "ipython",
    "version": 3
   },
   "file_extension": ".py",
   "mimetype": "text/x-python",
   "name": "python",
   "nbconvert_exporter": "python",
   "pygments_lexer": "ipython3",
   "version": "3.10.12"
  },
  "metadata": {
   "interpreter": {
    "hash": "c425b3d18afb7ef01beae38734bbc4c3f66a0926b3e7f0a803887fb6dc8ff96a"
   }
  },
  "orig_nbformat": 2
 },
 "nbformat": 4,
 "nbformat_minor": 2
}
