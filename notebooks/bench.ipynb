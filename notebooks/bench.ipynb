{
 "cells": [
  {
   "attachments": {},
   "cell_type": "markdown",
   "metadata": {},
   "source": [
    "# Figure 4\n",
    "\n",
    "Requires the respective script to be run first. See ```grande_experiment_slurm.sh``` for details."
   ]
  },
  {
   "cell_type": "code",
   "execution_count": 1,
   "metadata": {},
   "outputs": [],
   "source": [
    "import os\n",
    "os.chdir(\"../\")"
   ]
  },
  {
   "cell_type": "code",
   "execution_count": 2,
   "metadata": {},
   "outputs": [],
   "source": [
    "import pandas as pd\n",
    "import matplotlib.pyplot as plt\n",
    "import seaborn as sns\n",
    "import glob\n",
    "import json\n",
    "from src import utils\n",
    "from IPython.display import clear_output\n",
    "\n",
    "sns.set_theme(context='paper', style='ticks', font_scale=1)"
   ]
  },
  {
   "cell_type": "code",
   "execution_count": 4,
   "metadata": {},
   "outputs": [],
   "source": [
    "name=\"bench\"\n",
    "width_pt = 397\n",
    "palette = sns.color_palette('husl', 5)\n",
    "type_dict = {\n",
    "    'N' : int, \n",
    "    'ar_mean' : float,\n",
    "    'geo_mean' : float,\n",
    "    'seed' : int\n",
    "}"
   ]
  },
  {
   "cell_type": "code",
   "execution_count": 5,
   "metadata": {
    "tags": []
   },
   "outputs": [
    {
     "name": "stdout",
     "output_type": "stream",
     "text": [
      "Reading file 5599/5599\n"
     ]
    }
   ],
   "source": [
    "files = glob.glob(\"./outputs/experiments/{name}*.json\".format(name=name))\n",
    "\n",
    "dicts = []\n",
    "for fl_id, fl in enumerate(files):\n",
    "    clear_output(wait=True)\n",
    "    print('Reading file ' + str(fl_id+1)+'/'+str(len(files)))\n",
    "    with open(fl,\"r\") as f:\n",
    "        js = json.load(f)\n",
    "        dict = {\n",
    "            'algo' : js['algo'],\n",
    "            'pid' : js['pid'],\n",
    "            'k' : js['k'],\n",
    "            'reward' : js['reward'],\n",
    "            'cf_reward' : js['cf_reward']\n",
    "        }\n",
    "\n",
    "        dicts.append(dict)\n",
    "\n",
    "raw_df = pd.DataFrame(dicts)"
   ]
  },
  {
   "cell_type": "code",
   "execution_count": 8,
   "metadata": {},
   "outputs": [],
   "source": [
    "input_df = raw_df.copy()"
   ]
  },
  {
   "cell_type": "code",
   "execution_count": 5,
   "metadata": {},
   "outputs": [],
   "source": [
    "# input_df = raw_df.astype(type_dict) # Fix types\n",
    "input_df = raw_df\n",
    "input_df['improvement'] = (input_df['cf_reward'] - input_df['reward']) / input_df['reward']\n"
   ]
  },
  {
   "cell_type": "code",
   "execution_count": 9,
   "metadata": {},
   "outputs": [],
   "source": [
    "utils.latexify() # Computer Modern, with TeX\n",
    "# utils.latexify(font_serif='Times New Roman', font_size=10, usetex=False) # Times New Roman, without TeX\n",
    "\n",
    "fig_width, fig_height = utils.get_fig_dim(width_pt, fraction=0.6)\n",
    "fig, ax = plt.subplots(nrows=1, ncols=1, figsize=(fig_width, fig_height))\n",
    "\n",
    "# Draw Axis 1\n",
    "sns.boxplot(data=input_df, x='k', y='cf_reward', hue='algo', hue_order=['random', 'topk', 'greedy', 'astar'], palette=palette, ax=ax)\n",
    "sns.despine(ax=ax)\n",
    "\n",
    "fig.tight_layout()\n",
    "fig.savefig('figures/bench.pdf', dpi=300)"
   ]
  },
  {
   "cell_type": "code",
   "execution_count": null,
   "metadata": {},
   "outputs": [],
   "source": []
  }
 ],
 "metadata": {
  "interpreter": {
   "hash": "e312f55c3c97e43ef328a86651ae8cf61ffd8a19c7888f1a2843b6f17cf5ecdd"
  },
  "kernelspec": {
   "display_name": "Python 3.9.1 64-bit ('env')",
   "name": "python3"
  },
  "language_info": {
   "codemirror_mode": {
    "name": "ipython",
    "version": 3
   },
   "file_extension": ".py",
   "mimetype": "text/x-python",
   "name": "python",
   "nbconvert_exporter": "python",
   "pygments_lexer": "ipython3",
   "version": "3.10.12"
  },
  "metadata": {
   "interpreter": {
    "hash": "c425b3d18afb7ef01beae38734bbc4c3f66a0926b3e7f0a803887fb6dc8ff96a"
   }
  },
  "orig_nbformat": 2
 },
 "nbformat": 4,
 "nbformat_minor": 2
}
