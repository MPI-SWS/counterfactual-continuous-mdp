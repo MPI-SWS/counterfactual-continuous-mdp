{
 "cells": [
  {
   "attachments": {},
   "cell_type": "markdown",
   "metadata": {},
   "source": [
    "# Figure 2(a)\n",
    "\n",
    "Requires the respective script to be run first. See ```grande_experiment_slurm.sh``` for details."
   ]
  },
  {
   "cell_type": "code",
   "execution_count": 1,
   "metadata": {},
   "outputs": [],
   "source": [
    "import os\n",
    "os.chdir(\"../\")"
   ]
  },
  {
   "cell_type": "code",
   "execution_count": 2,
   "metadata": {},
   "outputs": [],
   "source": [
    "import pandas as pd\n",
    "import matplotlib.pyplot as plt\n",
    "import seaborn as sns\n",
    "import glob\n",
    "import json\n",
    "from src import utils\n",
    "from IPython.display import clear_output\n",
    "\n",
    "sns.set_theme(context='paper', style='ticks', font_scale=1)"
   ]
  },
  {
   "cell_type": "code",
   "execution_count": 3,
   "metadata": {},
   "outputs": [],
   "source": [
    "name=\"lipschitz\"\n",
    "width_pt = 397\n",
    "palette = sns.color_palette('husl', 5)"
   ]
  },
  {
   "cell_type": "code",
   "execution_count": 6,
   "metadata": {
    "tags": []
   },
   "outputs": [
    {
     "name": "stdout",
     "output_type": "stream",
     "text": [
      "Reading file 2400/2400\n"
     ]
    }
   ],
   "source": [
    "files = glob.glob(\"./outputs/experiments/{name}_*.json\".format(name=name))\n",
    "\n",
    "dicts = []\n",
    "for fl_id, fl in enumerate(files):\n",
    "    clear_output(wait=True)\n",
    "    print('Reading file ' + str(fl_id+1)+'/'+str(len(files)))\n",
    "    with open(fl,\"r\") as f:\n",
    "        js = json.load(f)\n",
    "        \n",
    "        dict = {}\n",
    "        dict['lipschitz_loc'] = js['lipschitz_loc']\n",
    "        dict['pid'] = js['pid']\n",
    "        dict['horizon'] = js['horizon']\n",
    "        dict['anchor_runtime'] = js['anchor_runtime']\n",
    "        dict['astar_runtime'] = js['astar_runtime']\n",
    "        dict['ebf'] = js['ebf']\n",
    "        dicts.append(dict)\n",
    "\n",
    "raw_df = pd.DataFrame(dicts)"
   ]
  },
  {
   "cell_type": "code",
   "execution_count": 7,
   "metadata": {},
   "outputs": [
    {
     "data": {
      "text/html": [
       "<div>\n",
       "<style scoped>\n",
       "    .dataframe tbody tr th:only-of-type {\n",
       "        vertical-align: middle;\n",
       "    }\n",
       "\n",
       "    .dataframe tbody tr th {\n",
       "        vertical-align: top;\n",
       "    }\n",
       "\n",
       "    .dataframe thead th {\n",
       "        text-align: right;\n",
       "    }\n",
       "</style>\n",
       "<table border=\"1\" class=\"dataframe\">\n",
       "  <thead>\n",
       "    <tr style=\"text-align: right;\">\n",
       "      <th></th>\n",
       "      <th>lipschitz_loc</th>\n",
       "      <th>pid</th>\n",
       "      <th>horizon</th>\n",
       "      <th>anchor_runtime</th>\n",
       "      <th>astar_runtime</th>\n",
       "      <th>ebf</th>\n",
       "    </tr>\n",
       "  </thead>\n",
       "  <tbody>\n",
       "    <tr>\n",
       "      <th>0</th>\n",
       "      <td>1.3</td>\n",
       "      <td>8780</td>\n",
       "      <td>12</td>\n",
       "      <td>10.721209</td>\n",
       "      <td>28.661889</td>\n",
       "      <td>2.430</td>\n",
       "    </tr>\n",
       "    <tr>\n",
       "      <th>1</th>\n",
       "      <td>1.2</td>\n",
       "      <td>12759</td>\n",
       "      <td>12</td>\n",
       "      <td>10.671619</td>\n",
       "      <td>69.383918</td>\n",
       "      <td>2.619</td>\n",
       "    </tr>\n",
       "    <tr>\n",
       "      <th>7</th>\n",
       "      <td>0.9</td>\n",
       "      <td>2101</td>\n",
       "      <td>12</td>\n",
       "      <td>7.522647</td>\n",
       "      <td>1.187851</td>\n",
       "      <td>1.800</td>\n",
       "    </tr>\n",
       "    <tr>\n",
       "      <th>11</th>\n",
       "      <td>1.2</td>\n",
       "      <td>4710</td>\n",
       "      <td>12</td>\n",
       "      <td>10.281742</td>\n",
       "      <td>39.408412</td>\n",
       "      <td>2.522</td>\n",
       "    </tr>\n",
       "    <tr>\n",
       "      <th>12</th>\n",
       "      <td>0.9</td>\n",
       "      <td>2985</td>\n",
       "      <td>12</td>\n",
       "      <td>7.789813</td>\n",
       "      <td>0.663592</td>\n",
       "      <td>1.676</td>\n",
       "    </tr>\n",
       "    <tr>\n",
       "      <th>...</th>\n",
       "      <td>...</td>\n",
       "      <td>...</td>\n",
       "      <td>...</td>\n",
       "      <td>...</td>\n",
       "      <td>...</td>\n",
       "      <td>...</td>\n",
       "    </tr>\n",
       "    <tr>\n",
       "      <th>2378</th>\n",
       "      <td>0.8</td>\n",
       "      <td>7477</td>\n",
       "      <td>12</td>\n",
       "      <td>7.190588</td>\n",
       "      <td>0.509450</td>\n",
       "      <td>1.619</td>\n",
       "    </tr>\n",
       "    <tr>\n",
       "      <th>2380</th>\n",
       "      <td>1.2</td>\n",
       "      <td>9231</td>\n",
       "      <td>12</td>\n",
       "      <td>10.322137</td>\n",
       "      <td>139.893195</td>\n",
       "      <td>2.824</td>\n",
       "    </tr>\n",
       "    <tr>\n",
       "      <th>2392</th>\n",
       "      <td>1.0</td>\n",
       "      <td>12175</td>\n",
       "      <td>12</td>\n",
       "      <td>8.555229</td>\n",
       "      <td>3.834366</td>\n",
       "      <td>2.033</td>\n",
       "    </tr>\n",
       "    <tr>\n",
       "      <th>2395</th>\n",
       "      <td>1.1</td>\n",
       "      <td>985</td>\n",
       "      <td>12</td>\n",
       "      <td>9.496079</td>\n",
       "      <td>4.936144</td>\n",
       "      <td>2.070</td>\n",
       "    </tr>\n",
       "    <tr>\n",
       "      <th>2399</th>\n",
       "      <td>1.0</td>\n",
       "      <td>8903</td>\n",
       "      <td>12</td>\n",
       "      <td>8.511683</td>\n",
       "      <td>0.423269</td>\n",
       "      <td>1.554</td>\n",
       "    </tr>\n",
       "  </tbody>\n",
       "</table>\n",
       "<p>1200 rows × 6 columns</p>\n",
       "</div>"
      ],
      "text/plain": [
       "      lipschitz_loc    pid  horizon  anchor_runtime  astar_runtime    ebf\n",
       "0               1.3   8780       12       10.721209      28.661889  2.430\n",
       "1               1.2  12759       12       10.671619      69.383918  2.619\n",
       "7               0.9   2101       12        7.522647       1.187851  1.800\n",
       "11              1.2   4710       12       10.281742      39.408412  2.522\n",
       "12              0.9   2985       12        7.789813       0.663592  1.676\n",
       "...             ...    ...      ...             ...            ...    ...\n",
       "2378            0.8   7477       12        7.190588       0.509450  1.619\n",
       "2380            1.2   9231       12       10.322137     139.893195  2.824\n",
       "2392            1.0  12175       12        8.555229       3.834366  2.033\n",
       "2395            1.1    985       12        9.496079       4.936144  2.070\n",
       "2399            1.0   8903       12        8.511683       0.423269  1.554\n",
       "\n",
       "[1200 rows x 6 columns]"
      ]
     },
     "execution_count": 7,
     "metadata": {},
     "output_type": "execute_result"
    }
   ],
   "source": [
    "input_df = raw_df[raw_df['horizon']==12]\n",
    "input_df"
   ]
  },
  {
   "cell_type": "code",
   "execution_count": 14,
   "metadata": {},
   "outputs": [],
   "source": [
    "utils.latexify() # Computer Modern, with TeX\n",
    "\n",
    "fig_width, fig_height = utils.get_fig_dim(width_pt, fraction=0.6)\n",
    "fig, ax = plt.subplots(nrows=1, ncols=1, figsize=(fig_width, fig_height))\n",
    "ax2 = ax.twinx()\n",
    "\n",
    "# Draw Axis 1\n",
    "sns.pointplot(data=input_df, x=\"lipschitz_loc\", y=\"ebf\", capsize=0.3, color=palette[0], ax=ax)\n",
    "sns.pointplot(data=input_df, x=\"lipschitz_loc\", y=\"astar_runtime\", capsize=0.3, color=palette[2], ax=ax2)\n",
    "sns.despine(top=True, right=False)\n",
    "ax.set_xlabel(r\"Lipschitz constant, $L_h$\")\n",
    "ax.set_ylabel(\"EBF\")\n",
    "ax2.set_ylabel(r\"$A^*$ average runtime (s)\")\n",
    "ax.set_ylim(ymin=1.5)\n",
    "ax2.set_ylim(ymax=75)\n",
    "ax.tick_params(axis='y', color=palette[0])\n",
    "ax2.tick_params(axis='y', color=palette[2])\n",
    "ax2.spines['left'].set_color(palette[0])\n",
    "ax2.spines['right'].set_color(palette[2])\n",
    "\n",
    "fig.tight_layout()\n",
    "fig.savefig('figures/lipschitz.pdf', dpi=300)"
   ]
  },
  {
   "cell_type": "code",
   "execution_count": null,
   "metadata": {},
   "outputs": [],
   "source": []
  }
 ],
 "metadata": {
  "interpreter": {
   "hash": "e312f55c3c97e43ef328a86651ae8cf61ffd8a19c7888f1a2843b6f17cf5ecdd"
  },
  "kernelspec": {
   "display_name": "Python 3.9.1 64-bit ('env')",
   "name": "python3"
  },
  "language_info": {
   "codemirror_mode": {
    "name": "ipython",
    "version": 3
   },
   "file_extension": ".py",
   "mimetype": "text/x-python",
   "name": "python",
   "nbconvert_exporter": "python",
   "pygments_lexer": "ipython3",
   "version": "3.10.12"
  },
  "metadata": {
   "interpreter": {
    "hash": "c425b3d18afb7ef01beae38734bbc4c3f66a0926b3e7f0a803887fb6dc8ff96a"
   }
  },
  "orig_nbformat": 2
 },
 "nbformat": 4,
 "nbformat_minor": 2
}
