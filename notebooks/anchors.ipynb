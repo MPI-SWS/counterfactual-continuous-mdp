{
 "cells": [
  {
   "attachments": {},
   "cell_type": "markdown",
   "metadata": {},
   "source": [
    "# Figure 2(b)\n",
    "\n",
    "Requires the respective script to be run first. See ```grande_experiment_slurm.sh``` for details."
   ]
  },
  {
   "cell_type": "code",
   "execution_count": 1,
   "metadata": {},
   "outputs": [],
   "source": [
    "import os\n",
    "os.chdir(\"../\")"
   ]
  },
  {
   "cell_type": "code",
   "execution_count": 2,
   "metadata": {},
   "outputs": [],
   "source": [
    "import pandas as pd\n",
    "import matplotlib.pyplot as plt\n",
    "import seaborn as sns\n",
    "import glob\n",
    "import json\n",
    "from src import utils\n",
    "from IPython.display import clear_output\n",
    "\n",
    "sns.set_theme(context='paper', style='ticks', font_scale=1)"
   ]
  },
  {
   "cell_type": "code",
   "execution_count": 3,
   "metadata": {},
   "outputs": [],
   "source": [
    "name=\"anchors\"\n",
    "width_pt = 397\n",
    "palette = sns.color_palette('husl', 5)"
   ]
  },
  {
   "cell_type": "code",
   "execution_count": 4,
   "metadata": {
    "tags": []
   },
   "outputs": [
    {
     "name": "stdout",
     "output_type": "stream",
     "text": [
      "Reading file 2400/2400\n"
     ]
    }
   ],
   "source": [
    "files = glob.glob(\"./outputs/experiments/{name}_*.json\".format(name=name))\n",
    "\n",
    "dicts = []\n",
    "for fl_id, fl in enumerate(files):\n",
    "    clear_output(wait=True)\n",
    "    print('Reading file ' + str(fl_id+1)+'/'+str(len(files)))\n",
    "    with open(fl,\"r\") as f:\n",
    "        js = json.load(f)\n",
    "        \n",
    "        dict = {}\n",
    "        dict['anchor_samples'] = js['anchor_samples']\n",
    "        dict['pid'] = js['pid']\n",
    "        dict['horizon'] = js['horizon']\n",
    "        dict['anchor_runtime'] = js['anchor_runtime']\n",
    "        dict['astar_runtime'] = js['astar_runtime']\n",
    "        dict['ebf'] = js['ebf']\n",
    "        dicts.append(dict)\n",
    "\n",
    "raw_df = pd.DataFrame(dicts)"
   ]
  },
  {
   "cell_type": "code",
   "execution_count": 5,
   "metadata": {},
   "outputs": [],
   "source": [
    "input_df = raw_df[raw_df['horizon']==12] #.astype(type_dict) # Fix types"
   ]
  },
  {
   "cell_type": "code",
   "execution_count": 11,
   "metadata": {},
   "outputs": [],
   "source": [
    "utils.latexify() # Computer Modern, with TeX\n",
    "\n",
    "fig_width, fig_height = utils.get_fig_dim(width_pt, fraction=0.6)\n",
    "fig, ax = plt.subplots(nrows=1, ncols=1, figsize=(fig_width, fig_height))\n",
    "ax2 = ax.twinx()\n",
    "\n",
    "# Draw Axis 1\n",
    "sns.pointplot(data=input_df, x=\"anchor_samples\", y=\"ebf\", capsize=0.3, color=palette[0], ax=ax)\n",
    "sns.pointplot(data=input_df, x=\"anchor_samples\", y=\"astar_runtime\", capsize=0.3, color=palette[2], ax=ax2)\n",
    "sns.despine(top=True, right=False)\n",
    "ax.set_xlabel(r\"\\# of Monte Carlo samples, $M$\")\n",
    "ax.set_ylabel(\"EBF\")\n",
    "ax2.set_ylabel(r\"$A^*$ average runtime (s)\")\n",
    "ax.set_ylim(ymin=1.9)\n",
    "ax2.set_ylim(ymax=25)\n",
    "ax.tick_params(axis='y', color=palette[0])\n",
    "ax2.tick_params(axis='y', color=palette[2])\n",
    "ax2.spines['left'].set_color(palette[0])\n",
    "ax2.spines['right'].set_color(palette[2])\n",
    "\n",
    "fig.tight_layout()\n",
    "fig.savefig('figures/anchors.pdf', dpi=300)"
   ]
  },
  {
   "cell_type": "code",
   "execution_count": null,
   "metadata": {},
   "outputs": [],
   "source": []
  }
 ],
 "metadata": {
  "interpreter": {
   "hash": "e312f55c3c97e43ef328a86651ae8cf61ffd8a19c7888f1a2843b6f17cf5ecdd"
  },
  "kernelspec": {
   "display_name": "Python 3.9.1 64-bit ('env')",
   "name": "python3"
  },
  "language_info": {
   "codemirror_mode": {
    "name": "ipython",
    "version": 3
   },
   "file_extension": ".py",
   "mimetype": "text/x-python",
   "name": "python",
   "nbconvert_exporter": "python",
   "pygments_lexer": "ipython3",
   "version": "3.10.12"
  },
  "metadata": {
   "interpreter": {
    "hash": "c425b3d18afb7ef01beae38734bbc4c3f66a0926b3e7f0a803887fb6dc8ff96a"
   }
  },
  "orig_nbformat": 2
 },
 "nbformat": 4,
 "nbformat_minor": 2
}
